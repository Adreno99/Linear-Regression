{
 "cells": [
  {
   "cell_type": "markdown",
   "id": "67cee70b",
   "metadata": {},
   "source": [
    "We will build a Multiple Linear regression model for Medical cost dataset. The dataset consists of age, sex, BMI(body mass index), children, smoker and region feature, which are independent and charge as a dependent feature. We will predict individual medical costs billed by health insurance."
   ]
  },
  {
   "cell_type": "markdown",
   "id": "c38267e1",
   "metadata": {},
   "source": [
    "# STEP A: DATA PRE-PROCESSING"
   ]
  },
  {
   "cell_type": "markdown",
   "id": "94ce2e7d",
   "metadata": {},
   "source": [
    "## STEP 1: IMPORTING LIBRARIES"
   ]
  },
  {
   "cell_type": "code",
   "execution_count": 1,
   "id": "1a2b0ecc",
   "metadata": {},
   "outputs": [],
   "source": [
    "import numpy as np\n",
    "import pandas as pd\n",
    "import matplotlib.pyplot as plt"
   ]
  },
  {
   "cell_type": "markdown",
   "id": "409c4160",
   "metadata": {},
   "source": [
    "## STEP 2: IMPORT DATASET"
   ]
  },
  {
   "cell_type": "code",
   "execution_count": 2,
   "id": "7d174230",
   "metadata": {},
   "outputs": [],
   "source": [
    "insurance_data=pd.read_csv(\"insurance.csv\")"
   ]
  },
  {
   "cell_type": "code",
   "execution_count": 3,
   "id": "7147fe45",
   "metadata": {},
   "outputs": [
    {
     "data": {
      "text/html": [
       "<div>\n",
       "<style scoped>\n",
       "    .dataframe tbody tr th:only-of-type {\n",
       "        vertical-align: middle;\n",
       "    }\n",
       "\n",
       "    .dataframe tbody tr th {\n",
       "        vertical-align: top;\n",
       "    }\n",
       "\n",
       "    .dataframe thead th {\n",
       "        text-align: right;\n",
       "    }\n",
       "</style>\n",
       "<table border=\"1\" class=\"dataframe\">\n",
       "  <thead>\n",
       "    <tr style=\"text-align: right;\">\n",
       "      <th></th>\n",
       "      <th>age</th>\n",
       "      <th>sex</th>\n",
       "      <th>bmi</th>\n",
       "      <th>children</th>\n",
       "      <th>smoker</th>\n",
       "      <th>region</th>\n",
       "      <th>charges</th>\n",
       "    </tr>\n",
       "  </thead>\n",
       "  <tbody>\n",
       "    <tr>\n",
       "      <th>0</th>\n",
       "      <td>19</td>\n",
       "      <td>female</td>\n",
       "      <td>27.900</td>\n",
       "      <td>0</td>\n",
       "      <td>yes</td>\n",
       "      <td>southwest</td>\n",
       "      <td>16884.92400</td>\n",
       "    </tr>\n",
       "    <tr>\n",
       "      <th>1</th>\n",
       "      <td>18</td>\n",
       "      <td>male</td>\n",
       "      <td>33.770</td>\n",
       "      <td>1</td>\n",
       "      <td>no</td>\n",
       "      <td>southeast</td>\n",
       "      <td>1725.55230</td>\n",
       "    </tr>\n",
       "    <tr>\n",
       "      <th>2</th>\n",
       "      <td>28</td>\n",
       "      <td>male</td>\n",
       "      <td>33.000</td>\n",
       "      <td>3</td>\n",
       "      <td>no</td>\n",
       "      <td>southeast</td>\n",
       "      <td>4449.46200</td>\n",
       "    </tr>\n",
       "    <tr>\n",
       "      <th>3</th>\n",
       "      <td>33</td>\n",
       "      <td>male</td>\n",
       "      <td>22.705</td>\n",
       "      <td>0</td>\n",
       "      <td>no</td>\n",
       "      <td>northwest</td>\n",
       "      <td>21984.47061</td>\n",
       "    </tr>\n",
       "    <tr>\n",
       "      <th>4</th>\n",
       "      <td>32</td>\n",
       "      <td>male</td>\n",
       "      <td>28.880</td>\n",
       "      <td>0</td>\n",
       "      <td>no</td>\n",
       "      <td>northwest</td>\n",
       "      <td>3866.85520</td>\n",
       "    </tr>\n",
       "    <tr>\n",
       "      <th>...</th>\n",
       "      <td>...</td>\n",
       "      <td>...</td>\n",
       "      <td>...</td>\n",
       "      <td>...</td>\n",
       "      <td>...</td>\n",
       "      <td>...</td>\n",
       "      <td>...</td>\n",
       "    </tr>\n",
       "    <tr>\n",
       "      <th>1333</th>\n",
       "      <td>50</td>\n",
       "      <td>male</td>\n",
       "      <td>30.970</td>\n",
       "      <td>3</td>\n",
       "      <td>no</td>\n",
       "      <td>northwest</td>\n",
       "      <td>10600.54830</td>\n",
       "    </tr>\n",
       "    <tr>\n",
       "      <th>1334</th>\n",
       "      <td>18</td>\n",
       "      <td>female</td>\n",
       "      <td>31.920</td>\n",
       "      <td>0</td>\n",
       "      <td>no</td>\n",
       "      <td>northeast</td>\n",
       "      <td>2205.98080</td>\n",
       "    </tr>\n",
       "    <tr>\n",
       "      <th>1335</th>\n",
       "      <td>18</td>\n",
       "      <td>female</td>\n",
       "      <td>36.850</td>\n",
       "      <td>0</td>\n",
       "      <td>no</td>\n",
       "      <td>southeast</td>\n",
       "      <td>1629.83350</td>\n",
       "    </tr>\n",
       "    <tr>\n",
       "      <th>1336</th>\n",
       "      <td>21</td>\n",
       "      <td>female</td>\n",
       "      <td>25.800</td>\n",
       "      <td>0</td>\n",
       "      <td>no</td>\n",
       "      <td>southwest</td>\n",
       "      <td>2007.94500</td>\n",
       "    </tr>\n",
       "    <tr>\n",
       "      <th>1337</th>\n",
       "      <td>61</td>\n",
       "      <td>female</td>\n",
       "      <td>29.070</td>\n",
       "      <td>0</td>\n",
       "      <td>yes</td>\n",
       "      <td>northwest</td>\n",
       "      <td>29141.36030</td>\n",
       "    </tr>\n",
       "  </tbody>\n",
       "</table>\n",
       "<p>1338 rows × 7 columns</p>\n",
       "</div>"
      ],
      "text/plain": [
       "      age     sex     bmi  children smoker     region      charges\n",
       "0      19  female  27.900         0    yes  southwest  16884.92400\n",
       "1      18    male  33.770         1     no  southeast   1725.55230\n",
       "2      28    male  33.000         3     no  southeast   4449.46200\n",
       "3      33    male  22.705         0     no  northwest  21984.47061\n",
       "4      32    male  28.880         0     no  northwest   3866.85520\n",
       "...   ...     ...     ...       ...    ...        ...          ...\n",
       "1333   50    male  30.970         3     no  northwest  10600.54830\n",
       "1334   18  female  31.920         0     no  northeast   2205.98080\n",
       "1335   18  female  36.850         0     no  southeast   1629.83350\n",
       "1336   21  female  25.800         0     no  southwest   2007.94500\n",
       "1337   61  female  29.070         0    yes  northwest  29141.36030\n",
       "\n",
       "[1338 rows x 7 columns]"
      ]
     },
     "execution_count": 3,
     "metadata": {},
     "output_type": "execute_result"
    }
   ],
   "source": [
    "insurance_data"
   ]
  },
  {
   "cell_type": "code",
   "execution_count": 4,
   "id": "bcd6ded3",
   "metadata": {},
   "outputs": [
    {
     "data": {
      "text/html": [
       "<div>\n",
       "<style scoped>\n",
       "    .dataframe tbody tr th:only-of-type {\n",
       "        vertical-align: middle;\n",
       "    }\n",
       "\n",
       "    .dataframe tbody tr th {\n",
       "        vertical-align: top;\n",
       "    }\n",
       "\n",
       "    .dataframe thead th {\n",
       "        text-align: right;\n",
       "    }\n",
       "</style>\n",
       "<table border=\"1\" class=\"dataframe\">\n",
       "  <thead>\n",
       "    <tr style=\"text-align: right;\">\n",
       "      <th></th>\n",
       "      <th>age</th>\n",
       "      <th>sex</th>\n",
       "      <th>bmi</th>\n",
       "      <th>children</th>\n",
       "      <th>smoker</th>\n",
       "      <th>region</th>\n",
       "      <th>charges</th>\n",
       "    </tr>\n",
       "  </thead>\n",
       "  <tbody>\n",
       "    <tr>\n",
       "      <th>0</th>\n",
       "      <td>19</td>\n",
       "      <td>female</td>\n",
       "      <td>27.900</td>\n",
       "      <td>0</td>\n",
       "      <td>yes</td>\n",
       "      <td>southwest</td>\n",
       "      <td>16884.92400</td>\n",
       "    </tr>\n",
       "    <tr>\n",
       "      <th>1</th>\n",
       "      <td>18</td>\n",
       "      <td>male</td>\n",
       "      <td>33.770</td>\n",
       "      <td>1</td>\n",
       "      <td>no</td>\n",
       "      <td>southeast</td>\n",
       "      <td>1725.55230</td>\n",
       "    </tr>\n",
       "    <tr>\n",
       "      <th>2</th>\n",
       "      <td>28</td>\n",
       "      <td>male</td>\n",
       "      <td>33.000</td>\n",
       "      <td>3</td>\n",
       "      <td>no</td>\n",
       "      <td>southeast</td>\n",
       "      <td>4449.46200</td>\n",
       "    </tr>\n",
       "    <tr>\n",
       "      <th>3</th>\n",
       "      <td>33</td>\n",
       "      <td>male</td>\n",
       "      <td>22.705</td>\n",
       "      <td>0</td>\n",
       "      <td>no</td>\n",
       "      <td>northwest</td>\n",
       "      <td>21984.47061</td>\n",
       "    </tr>\n",
       "    <tr>\n",
       "      <th>4</th>\n",
       "      <td>32</td>\n",
       "      <td>male</td>\n",
       "      <td>28.880</td>\n",
       "      <td>0</td>\n",
       "      <td>no</td>\n",
       "      <td>northwest</td>\n",
       "      <td>3866.85520</td>\n",
       "    </tr>\n",
       "  </tbody>\n",
       "</table>\n",
       "</div>"
      ],
      "text/plain": [
       "   age     sex     bmi  children smoker     region      charges\n",
       "0   19  female  27.900         0    yes  southwest  16884.92400\n",
       "1   18    male  33.770         1     no  southeast   1725.55230\n",
       "2   28    male  33.000         3     no  southeast   4449.46200\n",
       "3   33    male  22.705         0     no  northwest  21984.47061\n",
       "4   32    male  28.880         0     no  northwest   3866.85520"
      ]
     },
     "execution_count": 4,
     "metadata": {},
     "output_type": "execute_result"
    }
   ],
   "source": [
    "insurance_data.head()"
   ]
  },
  {
   "cell_type": "markdown",
   "id": "77c90685",
   "metadata": {},
   "source": [
    "## STEP 3: DIVIDING THE DATASET INTO FEATURE MATRIX (X) AND DEPENDENT VARIABLE VECTOR (V)\n",
    "The X is our input features and Y is the target variable or output"
   ]
  },
  {
   "cell_type": "code",
   "execution_count": 5,
   "id": "7d3717d1",
   "metadata": {},
   "outputs": [],
   "source": [
    "X = insurance_data.iloc[:,:-1].values\n",
    "Y = insurance_data.iloc[:, -1].values"
   ]
  },
  {
   "cell_type": "code",
   "execution_count": 6,
   "id": "8a279fe8",
   "metadata": {},
   "outputs": [
    {
     "data": {
      "text/plain": [
       "array([[19, 'female', 27.9, 0, 'yes', 'southwest'],\n",
       "       [18, 'male', 33.77, 1, 'no', 'southeast'],\n",
       "       [28, 'male', 33.0, 3, 'no', 'southeast'],\n",
       "       ...,\n",
       "       [18, 'female', 36.85, 0, 'no', 'southeast'],\n",
       "       [21, 'female', 25.8, 0, 'no', 'southwest'],\n",
       "       [61, 'female', 29.07, 0, 'yes', 'northwest']], dtype=object)"
      ]
     },
     "execution_count": 6,
     "metadata": {},
     "output_type": "execute_result"
    }
   ],
   "source": [
    "X"
   ]
  },
  {
   "cell_type": "code",
   "execution_count": 7,
   "id": "edd2089f",
   "metadata": {},
   "outputs": [
    {
     "data": {
      "text/plain": [
       "array([16884.924 ,  1725.5523,  4449.462 , ...,  1629.8335,  2007.945 ,\n",
       "       29141.3603])"
      ]
     },
     "execution_count": 7,
     "metadata": {},
     "output_type": "execute_result"
    }
   ],
   "source": [
    "Y"
   ]
  },
  {
   "cell_type": "markdown",
   "id": "c3d4a212",
   "metadata": {},
   "source": [
    "## STEP 4: REPLACE MISSING VALUES\n",
    "No missing values present in dataset"
   ]
  },
  {
   "cell_type": "code",
   "execution_count": 8,
   "id": "77f9e3a2",
   "metadata": {},
   "outputs": [
    {
     "data": {
      "text/plain": [
       "age         0\n",
       "sex         0\n",
       "bmi         0\n",
       "children    0\n",
       "smoker      0\n",
       "region      0\n",
       "charges     0\n",
       "dtype: int64"
      ]
     },
     "execution_count": 8,
     "metadata": {},
     "output_type": "execute_result"
    }
   ],
   "source": [
    "insurance_data.isnull().sum() "
   ]
  },
  {
   "cell_type": "markdown",
   "id": "cdb9fe50",
   "metadata": {},
   "source": [
    "## STEP 5: ENCODING CATEGORICAL DATA\n",
    "Categorical data is to be encoded to be readable by computer.\n",
    "No need to encode output since it is not categorical"
   ]
  },
  {
   "cell_type": "markdown",
   "id": "232f1f7a",
   "metadata": {},
   "source": [
    "### ENCODING FEATURE MATRIX USING OneHotEncoder"
   ]
  },
  {
   "cell_type": "code",
   "execution_count": 9,
   "id": "726584bb",
   "metadata": {},
   "outputs": [],
   "source": [
    "from sklearn.compose import ColumnTransformer\n",
    "from sklearn.preprocessing import OneHotEncoder\n",
    "ct=ColumnTransformer(transformers=[('encoder', OneHotEncoder(), [1,4,5])], remainder='passthrough')\n",
    "X=np.array(ct.fit_transform(X))"
   ]
  },
  {
   "cell_type": "code",
   "execution_count": 10,
   "id": "75bf83c0",
   "metadata": {},
   "outputs": [
    {
     "data": {
      "text/plain": [
       "array([[1.0, 0.0, 0.0, ..., 19, 27.9, 0],\n",
       "       [0.0, 1.0, 1.0, ..., 18, 33.77, 1],\n",
       "       [0.0, 1.0, 1.0, ..., 28, 33.0, 3],\n",
       "       ...,\n",
       "       [1.0, 0.0, 1.0, ..., 18, 36.85, 0],\n",
       "       [1.0, 0.0, 1.0, ..., 21, 25.8, 0],\n",
       "       [1.0, 0.0, 0.0, ..., 61, 29.07, 0]], dtype=object)"
      ]
     },
     "execution_count": 10,
     "metadata": {},
     "output_type": "execute_result"
    }
   ],
   "source": [
    "X"
   ]
  },
  {
   "cell_type": "code",
   "execution_count": 11,
   "id": "62bcf5e8",
   "metadata": {},
   "outputs": [
    {
     "data": {
      "text/plain": [
       "array([16884.924 ,  1725.5523,  4449.462 , ...,  1629.8335,  2007.945 ,\n",
       "       29141.3603])"
      ]
     },
     "execution_count": 11,
     "metadata": {},
     "output_type": "execute_result"
    }
   ],
   "source": [
    "Y"
   ]
  },
  {
   "cell_type": "markdown",
   "id": "faddce19",
   "metadata": {},
   "source": [
    "## STEP 6: SPLITTING THE DATASET INTO TRAINING AND TESTING DATASET"
   ]
  },
  {
   "cell_type": "code",
   "execution_count": 12,
   "id": "0737ba91",
   "metadata": {},
   "outputs": [],
   "source": [
    "from sklearn.model_selection import train_test_split\n",
    "Xtrain,Xtest,Ytrain,Ytest=train_test_split(X,Y,test_size=0.2,random_state=1)"
   ]
  },
  {
   "cell_type": "code",
   "execution_count": 13,
   "id": "c93755b0",
   "metadata": {},
   "outputs": [
    {
     "data": {
      "text/plain": [
       "array([[1.0, 0.0, 1.0, ..., 53, 26.6, 0],\n",
       "       [0.0, 1.0, 1.0, ..., 53, 21.4, 1],\n",
       "       [0.0, 1.0, 1.0, ..., 18, 37.29, 0],\n",
       "       ...,\n",
       "       [1.0, 0.0, 0.0, ..., 51, 34.96, 2],\n",
       "       [1.0, 0.0, 0.0, ..., 40, 22.22, 2],\n",
       "       [0.0, 1.0, 1.0, ..., 57, 27.94, 1]], dtype=object)"
      ]
     },
     "execution_count": 13,
     "metadata": {},
     "output_type": "execute_result"
    }
   ],
   "source": [
    "Xtrain"
   ]
  },
  {
   "cell_type": "code",
   "execution_count": 14,
   "id": "a449b140",
   "metadata": {},
   "outputs": [
    {
     "data": {
      "text/plain": [
       "array([10355.641 , 10065.413 ,  1141.4451, ..., 44641.1974, 19444.2658,\n",
       "       11554.2236])"
      ]
     },
     "execution_count": 14,
     "metadata": {},
     "output_type": "execute_result"
    }
   ],
   "source": [
    "Ytrain"
   ]
  },
  {
   "cell_type": "markdown",
   "id": "1b62cd57",
   "metadata": {},
   "source": [
    "## STEP 7: FEATURE SCALING"
   ]
  },
  {
   "cell_type": "code",
   "execution_count": 15,
   "id": "e690bef7",
   "metadata": {},
   "outputs": [],
   "source": [
    "from sklearn.preprocessing import StandardScaler\n",
    "sc=StandardScaler()\n",
    "Xtrain[:, :-1]=sc.fit_transform(Xtrain[:,:-1])\n",
    "Xtest[:, :-1]=sc.fit_transform(Xtest[:,:-1])"
   ]
  },
  {
   "cell_type": "markdown",
   "id": "a5b10297",
   "metadata": {},
   "source": [
    "# STEP B: BUILDING MULTIPLE LINEAR REGRESSION MODEL"
   ]
  },
  {
   "cell_type": "markdown",
   "id": "572cd121",
   "metadata": {},
   "source": [
    "## STEP 1: TRAINING THE MODEL"
   ]
  },
  {
   "cell_type": "code",
   "execution_count": 16,
   "id": "b864920e",
   "metadata": {},
   "outputs": [
    {
     "data": {
      "text/plain": [
       "LinearRegression()"
      ]
     },
     "execution_count": 16,
     "metadata": {},
     "output_type": "execute_result"
    }
   ],
   "source": [
    "from sklearn.linear_model import LinearRegression\n",
    "MultiLR=LinearRegression()\n",
    "MultiLR.fit(Xtrain, Ytrain)"
   ]
  },
  {
   "cell_type": "markdown",
   "id": "cbf4d085",
   "metadata": {},
   "source": [
    "## STEP 2: TESTING THE MODEL"
   ]
  },
  {
   "cell_type": "code",
   "execution_count": 17,
   "id": "2995e3e0",
   "metadata": {},
   "outputs": [],
   "source": [
    "Y_estimate=MultiLR.predict(Xtest)"
   ]
  },
  {
   "cell_type": "code",
   "execution_count": 18,
   "id": "00a0e66f",
   "metadata": {},
   "outputs": [
    {
     "data": {
      "text/plain": [
       "array([[-1.0226443793995803, 1.0226443793995803, 0.502331014967354, ...,\n",
       "        -1.4658537218273997, 0.8173366199501073, 0],\n",
       "       [-1.0226443793995803, 1.0226443793995803, 0.502331014967354, ...,\n",
       "        1.1847596132383391, 0.150902982034023, 0],\n",
       "       [-1.0226443793995803, 1.0226443793995803, 0.502331014967354, ...,\n",
       "        0.7662417182279593, 1.0628648023402434, 0],\n",
       "       ...,\n",
       "       [-1.0226443793995803, 1.0226443793995803, -1.9907192074632172,\n",
       "        ..., 0.48722978822103946, 1.3868951927054567, 2],\n",
       "       [0.977857034316387, -0.977857034316387, 0.502331014967354, ...,\n",
       "        -1.4658537218273997, 0.9918787632138439, 0],\n",
       "       [0.977857034316387, -0.977857034316387, 0.502331014967354, ...,\n",
       "        -0.3498060017997202, -0.7535426694235194, 0]], dtype=object)"
      ]
     },
     "execution_count": 18,
     "metadata": {},
     "output_type": "execute_result"
    }
   ],
   "source": [
    "Xtest"
   ]
  },
  {
   "cell_type": "code",
   "execution_count": 19,
   "id": "1f1597c0",
   "metadata": {},
   "outputs": [
    {
     "data": {
      "text/plain": [
       "array([ 1646.4297 , 11353.2276 ,  8798.593  , 10381.4787 ,  2103.08   ,\n",
       "       38746.3551 ,  9304.7019 , 11658.11505,  3070.8087 , 19539.243  ,\n",
       "       12629.8967 , 11538.421  ,  6338.0756 ,  7050.642  ,  1137.4697 ,\n",
       "        8968.33   , 21984.47061,  6414.178  , 28287.89766, 13462.52   ,\n",
       "        9722.7695 , 40932.4295 ,  8026.6666 ,  8444.474  ,  2203.47185,\n",
       "        6664.68595,  8606.2174 ,  8283.6807 ,  5375.038  ,  3645.0894 ,\n",
       "       11674.13   , 11737.84884, 24873.3849 , 33750.2918 , 24180.9335 ,\n",
       "        9863.4718 , 36837.467  , 17942.106  , 11856.4115 , 39725.51805,\n",
       "        4349.462  , 11743.9341 , 19749.38338, 12347.172  ,  4931.647  ,\n",
       "       30259.99556, 27724.28875, 34672.1472 ,  9644.2525 , 14394.39815,\n",
       "       12557.6053 , 11881.358  ,  2352.96845,  9101.798  , 17178.6824 ,\n",
       "        3994.1778 , 40941.2854 , 12644.589  , 22395.74424,  1149.3959 ,\n",
       "        3366.6697 , 13143.33665, 18328.2381 ,  2690.1138 , 12741.16745,\n",
       "        8765.249  , 10264.4421 , 22192.43711,  2709.24395, 14571.8908 ,\n",
       "       60021.39897, 58571.07448,  1743.214  , 12479.70895, 13352.0998 ,\n",
       "       41034.2214 ,  2789.0574 ,  2867.1196 , 11070.535  , 10493.9458 ,\n",
       "        3167.45585, 12269.68865, 10942.13205,  1977.815  , 39125.33225,\n",
       "       42112.2356 ,  7045.499  , 46200.9851 , 10370.91255,  7749.1564 ,\n",
       "       20234.85475, 24106.91255, 13919.8229 ,  8871.1517 ,  1628.4709 ,\n",
       "        9487.6442 ,  9861.025  , 12265.5069 , 12235.8392 ,  6402.29135,\n",
       "       11356.6609 , 15817.9857 , 18259.216  , 34779.615  , 27037.9141 ,\n",
       "       18033.9679 ,  1737.376  ,  7441.053  ,  2219.4451 , 11286.5387 ,\n",
       "        4415.1588 ,  3981.9768 ,  1632.03625, 15555.18875, 12609.88702,\n",
       "        1253.936  ,  6666.243  , 14254.6082 , 19496.71917,  2261.5688 ,\n",
       "        8932.084  , 10736.87075,  5976.8311 ,  7147.105  , 43813.8661 ,\n",
       "        9563.029  , 13047.33235, 19361.9988 , 43896.3763 ,  7740.337  ,\n",
       "       36307.7983 ,  1832.094  ,  7144.86265, 38282.7495 , 24603.04837,\n",
       "        1731.677  ,  1632.56445,  1631.8212 ,  9991.03765,  7935.29115,\n",
       "       14043.4767 ,  5934.3798 , 18972.495  , 14313.8463 , 13607.36875,\n",
       "       10594.50155,  1719.4363 ,  7954.517  ,  1727.54   ,  6686.4313 ,\n",
       "        7152.6714 ,  3877.30425, 33471.97189, 11879.10405,  7804.1605 ,\n",
       "        5969.723  ,  9964.06   ,  9957.7216 ,  9447.3824 ,  1826.843  ,\n",
       "        3704.3545 , 49577.6624 , 11946.6259 ,  2904.088  ,  6128.79745,\n",
       "        1534.3045 , 38709.176  , 10436.096  , 11073.176  ,  5469.0066 ,\n",
       "        5152.134  ,  3556.9223 , 22412.6485 , 25678.77845,  3353.4703 ,\n",
       "        6555.07035,  2416.955  , 14590.63205,  3732.6251 ,  5846.9176 ,\n",
       "       12730.9996 , 13616.3586 ,  8988.15875,  7650.77375,  3594.17085,\n",
       "       18246.4955 ,  2155.6815 ,  8569.8618 ,  7526.70645,  9222.4026 ,\n",
       "       14119.62   , 47269.854  ,  3260.199  ,  2709.1119 ,  6933.24225,\n",
       "        9264.797  ,  7243.8136 ,  2134.9015 , 11520.09985,  8233.0975 ,\n",
       "        6289.7549 ,  7371.772  , 12094.478  , 23563.01618,  6457.8434 ,\n",
       "        1615.7667 ,  6600.20595,  7046.7222 ,  1984.4533 , 11455.28   ,\n",
       "        4137.5227 , 23244.7902 , 17128.42608,  3987.926  ,  4670.64   ,\n",
       "       47291.055  , 10796.35025, 35595.5898 ,  1136.3994 , 38998.546  ,\n",
       "        2459.7201 , 21195.818  , 12268.63225,  4827.90495,  1635.73365,\n",
       "        1969.614  ,  4357.04365, 10795.93733, 17081.08   , 13887.9685 ,\n",
       "        3579.8287 , 14001.2867 , 47462.894  ,  6753.038  , 12096.6512 ,\n",
       "       10214.636  , 17361.7661 ,  1639.5631 ,  8342.90875,  4074.4537 ,\n",
       "        8083.9198 ,  2026.9741 , 31620.00106,  1981.5819 , 20781.48892,\n",
       "       24869.8368 , 18806.14547,  8551.347  , 18218.16139, 14210.53595,\n",
       "       10959.6947 ,  4441.21315, 12142.5786 , 10560.4917 ,  2897.3235 ,\n",
       "        2755.02095, 34617.84065, 22331.5668 ,  1625.43375, 48517.56315,\n",
       "        8219.2039 ,  6940.90985,  8240.5896 , 40103.89   , 42983.4585 ,\n",
       "       44202.6536 ,  2136.88225,  5227.98875])"
      ]
     },
     "execution_count": 19,
     "metadata": {},
     "output_type": "execute_result"
    }
   ],
   "source": [
    "Ytest"
   ]
  },
  {
   "cell_type": "code",
   "execution_count": 20,
   "id": "ca9b97c1",
   "metadata": {},
   "outputs": [
    {
     "data": {
      "text/plain": [
       "array([ 3.15539548e+16,  3.15539548e+16, -6.84463584e+15, -6.84463584e+15,\n",
       "        1.20319794e+17,  1.19696857e+17,  1.23114753e+17,  1.20778958e+17,\n",
       "        3.60247220e+03,  1.99074840e+03,  3.72633732e+02])"
      ]
     },
     "execution_count": 20,
     "metadata": {},
     "output_type": "execute_result"
    }
   ],
   "source": [
    "MultiLR.coef_"
   ]
  },
  {
   "cell_type": "code",
   "execution_count": 21,
   "id": "b2c68bdc",
   "metadata": {},
   "outputs": [
    {
     "data": {
      "text/plain": [
       "12842.042412370789"
      ]
     },
     "execution_count": 21,
     "metadata": {},
     "output_type": "execute_result"
    }
   ],
   "source": [
    "MultiLR.intercept_"
   ]
  },
  {
   "cell_type": "markdown",
   "id": "124d7c27",
   "metadata": {},
   "source": []
  },
  {
   "cell_type": "code",
   "execution_count": 22,
   "id": "dd23e353",
   "metadata": {},
   "outputs": [
    {
     "name": "stdout",
     "output_type": "stream",
     "text": [
      "The Mean Square Error(MSE) or J(theta) is:  9.15419269994171e+31\n",
      "R square obtained is : -6.132203562262155e+23\n"
     ]
    }
   ],
   "source": [
    "#Evaluation: MSE(Mean Square Error)\n",
    "from sklearn.metrics import mean_squared_error\n",
    "J_mse = mean_squared_error(Y_estimate, Ytest)\n",
    "\n",
    "# R_square (R squared)\n",
    "R_square = MultiLR.score(Xtest,Ytest)\n",
    "print('The Mean Square Error(MSE) or J(theta) is: ',J_mse)\n",
    "print('R square obtained is :',R_square)"
   ]
  },
  {
   "cell_type": "markdown",
   "id": "28fe8991",
   "metadata": {},
   "source": [
    "conclusion: the negative r-squared error means the model does not follow the trend of the data"
   ]
  },
  {
   "cell_type": "code",
   "execution_count": null,
   "id": "d09d431a",
   "metadata": {},
   "outputs": [],
   "source": []
  }
 ],
 "metadata": {
  "kernelspec": {
   "display_name": "Python 3",
   "language": "python",
   "name": "python3"
  },
  "language_info": {
   "codemirror_mode": {
    "name": "ipython",
    "version": 3
   },
   "file_extension": ".py",
   "mimetype": "text/x-python",
   "name": "python",
   "nbconvert_exporter": "python",
   "pygments_lexer": "ipython3",
   "version": "3.8.8"
  }
 },
 "nbformat": 4,
 "nbformat_minor": 5
}
