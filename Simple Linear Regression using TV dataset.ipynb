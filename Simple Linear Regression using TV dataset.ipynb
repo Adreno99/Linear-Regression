{
 "cells": [
  {
   "cell_type": "markdown",
   "id": "197e763e",
   "metadata": {},
   "source": [
    "# PART I: DATA PRE-PROCESSING"
   ]
  },
  {
   "cell_type": "markdown",
   "id": "5251ad36",
   "metadata": {},
   "source": [
    "## STEP 1: IMPORTING LIBRARIES AND DATASET"
   ]
  },
  {
   "cell_type": "code",
   "execution_count": 1,
   "id": "ea92bc6d",
   "metadata": {},
   "outputs": [],
   "source": [
    "import numpy as np\n",
    "import matplotlib.pyplot as plt\n",
    "import pandas as pd"
   ]
  },
  {
   "cell_type": "code",
   "execution_count": 2,
   "id": "ec54a93f",
   "metadata": {},
   "outputs": [
    {
     "data": {
      "text/html": [
       "<div>\n",
       "<style scoped>\n",
       "    .dataframe tbody tr th:only-of-type {\n",
       "        vertical-align: middle;\n",
       "    }\n",
       "\n",
       "    .dataframe tbody tr th {\n",
       "        vertical-align: top;\n",
       "    }\n",
       "\n",
       "    .dataframe thead th {\n",
       "        text-align: right;\n",
       "    }\n",
       "</style>\n",
       "<table border=\"1\" class=\"dataframe\">\n",
       "  <thead>\n",
       "    <tr style=\"text-align: right;\">\n",
       "      <th></th>\n",
       "      <th>TV</th>\n",
       "      <th>Sales</th>\n",
       "    </tr>\n",
       "  </thead>\n",
       "  <tbody>\n",
       "    <tr>\n",
       "      <th>0</th>\n",
       "      <td>230.1</td>\n",
       "      <td>22.1</td>\n",
       "    </tr>\n",
       "    <tr>\n",
       "      <th>1</th>\n",
       "      <td>44.5</td>\n",
       "      <td>10.4</td>\n",
       "    </tr>\n",
       "    <tr>\n",
       "      <th>2</th>\n",
       "      <td>17.2</td>\n",
       "      <td>9.3</td>\n",
       "    </tr>\n",
       "    <tr>\n",
       "      <th>3</th>\n",
       "      <td>151.5</td>\n",
       "      <td>18.5</td>\n",
       "    </tr>\n",
       "    <tr>\n",
       "      <th>4</th>\n",
       "      <td>180.8</td>\n",
       "      <td>12.9</td>\n",
       "    </tr>\n",
       "    <tr>\n",
       "      <th>...</th>\n",
       "      <td>...</td>\n",
       "      <td>...</td>\n",
       "    </tr>\n",
       "    <tr>\n",
       "      <th>195</th>\n",
       "      <td>38.2</td>\n",
       "      <td>7.6</td>\n",
       "    </tr>\n",
       "    <tr>\n",
       "      <th>196</th>\n",
       "      <td>94.2</td>\n",
       "      <td>9.7</td>\n",
       "    </tr>\n",
       "    <tr>\n",
       "      <th>197</th>\n",
       "      <td>177.0</td>\n",
       "      <td>12.8</td>\n",
       "    </tr>\n",
       "    <tr>\n",
       "      <th>198</th>\n",
       "      <td>283.6</td>\n",
       "      <td>25.5</td>\n",
       "    </tr>\n",
       "    <tr>\n",
       "      <th>199</th>\n",
       "      <td>232.1</td>\n",
       "      <td>13.4</td>\n",
       "    </tr>\n",
       "  </tbody>\n",
       "</table>\n",
       "<p>200 rows × 2 columns</p>\n",
       "</div>"
      ],
      "text/plain": [
       "        TV  Sales\n",
       "0    230.1   22.1\n",
       "1     44.5   10.4\n",
       "2     17.2    9.3\n",
       "3    151.5   18.5\n",
       "4    180.8   12.9\n",
       "..     ...    ...\n",
       "195   38.2    7.6\n",
       "196   94.2    9.7\n",
       "197  177.0   12.8\n",
       "198  283.6   25.5\n",
       "199  232.1   13.4\n",
       "\n",
       "[200 rows x 2 columns]"
      ]
     },
     "execution_count": 2,
     "metadata": {},
     "output_type": "execute_result"
    }
   ],
   "source": [
    "tv_data=pd.read_csv('tvmarketing.csv')\n",
    "tv_data"
   ]
  },
  {
   "cell_type": "code",
   "execution_count": 3,
   "id": "93a17248",
   "metadata": {},
   "outputs": [
    {
     "name": "stdout",
     "output_type": "stream",
     "text": [
      "<class 'pandas.core.frame.DataFrame'>\n",
      "RangeIndex: 200 entries, 0 to 199\n",
      "Data columns (total 2 columns):\n",
      " #   Column  Non-Null Count  Dtype  \n",
      "---  ------  --------------  -----  \n",
      " 0   TV      200 non-null    float64\n",
      " 1   Sales   200 non-null    float64\n",
      "dtypes: float64(2)\n",
      "memory usage: 3.2 KB\n"
     ]
    }
   ],
   "source": [
    "tv_data.info() #checking to see null values. conclusion- no null values"
   ]
  },
  {
   "cell_type": "markdown",
   "id": "78adcbe2",
   "metadata": {},
   "source": [
    "## STEP 2: CREATING FEATURE MATRIX(X) AND TARGET VARIABLE(Y)"
   ]
  },
  {
   "cell_type": "code",
   "execution_count": 4,
   "id": "f641760c",
   "metadata": {},
   "outputs": [],
   "source": [
    "X=tv_data.iloc[:,0:-1].values\n",
    "Y=tv_data.iloc[:,-1:].values"
   ]
  },
  {
   "cell_type": "code",
   "execution_count": 5,
   "id": "f9c04309",
   "metadata": {},
   "outputs": [
    {
     "data": {
      "text/plain": [
       "array([[230.1],\n",
       "       [ 44.5],\n",
       "       [ 17.2],\n",
       "       [151.5],\n",
       "       [180.8],\n",
       "       [  8.7],\n",
       "       [ 57.5],\n",
       "       [120.2],\n",
       "       [  8.6],\n",
       "       [199.8],\n",
       "       [ 66.1],\n",
       "       [214.7],\n",
       "       [ 23.8],\n",
       "       [ 97.5],\n",
       "       [204.1],\n",
       "       [195.4],\n",
       "       [ 67.8],\n",
       "       [281.4],\n",
       "       [ 69.2],\n",
       "       [147.3],\n",
       "       [218.4],\n",
       "       [237.4],\n",
       "       [ 13.2],\n",
       "       [228.3],\n",
       "       [ 62.3],\n",
       "       [262.9],\n",
       "       [142.9],\n",
       "       [240.1],\n",
       "       [248.8],\n",
       "       [ 70.6],\n",
       "       [292.9],\n",
       "       [112.9],\n",
       "       [ 97.2],\n",
       "       [265.6],\n",
       "       [ 95.7],\n",
       "       [290.7],\n",
       "       [266.9],\n",
       "       [ 74.7],\n",
       "       [ 43.1],\n",
       "       [228. ],\n",
       "       [202.5],\n",
       "       [177. ],\n",
       "       [293.6],\n",
       "       [206.9],\n",
       "       [ 25.1],\n",
       "       [175.1],\n",
       "       [ 89.7],\n",
       "       [239.9],\n",
       "       [227.2],\n",
       "       [ 66.9],\n",
       "       [199.8],\n",
       "       [100.4],\n",
       "       [216.4],\n",
       "       [182.6],\n",
       "       [262.7],\n",
       "       [198.9],\n",
       "       [  7.3],\n",
       "       [136.2],\n",
       "       [210.8],\n",
       "       [210.7],\n",
       "       [ 53.5],\n",
       "       [261.3],\n",
       "       [239.3],\n",
       "       [102.7],\n",
       "       [131.1],\n",
       "       [ 69. ],\n",
       "       [ 31.5],\n",
       "       [139.3],\n",
       "       [237.4],\n",
       "       [216.8],\n",
       "       [199.1],\n",
       "       [109.8],\n",
       "       [ 26.8],\n",
       "       [129.4],\n",
       "       [213.4],\n",
       "       [ 16.9],\n",
       "       [ 27.5],\n",
       "       [120.5],\n",
       "       [  5.4],\n",
       "       [116. ],\n",
       "       [ 76.4],\n",
       "       [239.8],\n",
       "       [ 75.3],\n",
       "       [ 68.4],\n",
       "       [213.5],\n",
       "       [193.2],\n",
       "       [ 76.3],\n",
       "       [110.7],\n",
       "       [ 88.3],\n",
       "       [109.8],\n",
       "       [134.3],\n",
       "       [ 28.6],\n",
       "       [217.7],\n",
       "       [250.9],\n",
       "       [107.4],\n",
       "       [163.3],\n",
       "       [197.6],\n",
       "       [184.9],\n",
       "       [289.7],\n",
       "       [135.2],\n",
       "       [222.4],\n",
       "       [296.4],\n",
       "       [280.2],\n",
       "       [187.9],\n",
       "       [238.2],\n",
       "       [137.9],\n",
       "       [ 25. ],\n",
       "       [ 90.4],\n",
       "       [ 13.1],\n",
       "       [255.4],\n",
       "       [225.8],\n",
       "       [241.7],\n",
       "       [175.7],\n",
       "       [209.6],\n",
       "       [ 78.2],\n",
       "       [ 75.1],\n",
       "       [139.2],\n",
       "       [ 76.4],\n",
       "       [125.7],\n",
       "       [ 19.4],\n",
       "       [141.3],\n",
       "       [ 18.8],\n",
       "       [224. ],\n",
       "       [123.1],\n",
       "       [229.5],\n",
       "       [ 87.2],\n",
       "       [  7.8],\n",
       "       [ 80.2],\n",
       "       [220.3],\n",
       "       [ 59.6],\n",
       "       [  0.7],\n",
       "       [265.2],\n",
       "       [  8.4],\n",
       "       [219.8],\n",
       "       [ 36.9],\n",
       "       [ 48.3],\n",
       "       [ 25.6],\n",
       "       [273.7],\n",
       "       [ 43. ],\n",
       "       [184.9],\n",
       "       [ 73.4],\n",
       "       [193.7],\n",
       "       [220.5],\n",
       "       [104.6],\n",
       "       [ 96.2],\n",
       "       [140.3],\n",
       "       [240.1],\n",
       "       [243.2],\n",
       "       [ 38. ],\n",
       "       [ 44.7],\n",
       "       [280.7],\n",
       "       [121. ],\n",
       "       [197.6],\n",
       "       [171.3],\n",
       "       [187.8],\n",
       "       [  4.1],\n",
       "       [ 93.9],\n",
       "       [149.8],\n",
       "       [ 11.7],\n",
       "       [131.7],\n",
       "       [172.5],\n",
       "       [ 85.7],\n",
       "       [188.4],\n",
       "       [163.5],\n",
       "       [117.2],\n",
       "       [234.5],\n",
       "       [ 17.9],\n",
       "       [206.8],\n",
       "       [215.4],\n",
       "       [284.3],\n",
       "       [ 50. ],\n",
       "       [164.5],\n",
       "       [ 19.6],\n",
       "       [168.4],\n",
       "       [222.4],\n",
       "       [276.9],\n",
       "       [248.4],\n",
       "       [170.2],\n",
       "       [276.7],\n",
       "       [165.6],\n",
       "       [156.6],\n",
       "       [218.5],\n",
       "       [ 56.2],\n",
       "       [287.6],\n",
       "       [253.8],\n",
       "       [205. ],\n",
       "       [139.5],\n",
       "       [191.1],\n",
       "       [286. ],\n",
       "       [ 18.7],\n",
       "       [ 39.5],\n",
       "       [ 75.5],\n",
       "       [ 17.2],\n",
       "       [166.8],\n",
       "       [149.7],\n",
       "       [ 38.2],\n",
       "       [ 94.2],\n",
       "       [177. ],\n",
       "       [283.6],\n",
       "       [232.1]])"
      ]
     },
     "execution_count": 5,
     "metadata": {},
     "output_type": "execute_result"
    }
   ],
   "source": [
    "X"
   ]
  },
  {
   "cell_type": "code",
   "execution_count": 6,
   "id": "78f7b24d",
   "metadata": {
    "scrolled": true
   },
   "outputs": [
    {
     "data": {
      "text/plain": [
       "array([[22.1],\n",
       "       [10.4],\n",
       "       [ 9.3],\n",
       "       [18.5],\n",
       "       [12.9],\n",
       "       [ 7.2],\n",
       "       [11.8],\n",
       "       [13.2],\n",
       "       [ 4.8],\n",
       "       [10.6],\n",
       "       [ 8.6],\n",
       "       [17.4],\n",
       "       [ 9.2],\n",
       "       [ 9.7],\n",
       "       [19. ],\n",
       "       [22.4],\n",
       "       [12.5],\n",
       "       [24.4],\n",
       "       [11.3],\n",
       "       [14.6],\n",
       "       [18. ],\n",
       "       [12.5],\n",
       "       [ 5.6],\n",
       "       [15.5],\n",
       "       [ 9.7],\n",
       "       [12. ],\n",
       "       [15. ],\n",
       "       [15.9],\n",
       "       [18.9],\n",
       "       [10.5],\n",
       "       [21.4],\n",
       "       [11.9],\n",
       "       [ 9.6],\n",
       "       [17.4],\n",
       "       [ 9.5],\n",
       "       [12.8],\n",
       "       [25.4],\n",
       "       [14.7],\n",
       "       [10.1],\n",
       "       [21.5],\n",
       "       [16.6],\n",
       "       [17.1],\n",
       "       [20.7],\n",
       "       [12.9],\n",
       "       [ 8.5],\n",
       "       [14.9],\n",
       "       [10.6],\n",
       "       [23.2],\n",
       "       [14.8],\n",
       "       [ 9.7],\n",
       "       [11.4],\n",
       "       [10.7],\n",
       "       [22.6],\n",
       "       [21.2],\n",
       "       [20.2],\n",
       "       [23.7],\n",
       "       [ 5.5],\n",
       "       [13.2],\n",
       "       [23.8],\n",
       "       [18.4],\n",
       "       [ 8.1],\n",
       "       [24.2],\n",
       "       [15.7],\n",
       "       [14. ],\n",
       "       [18. ],\n",
       "       [ 9.3],\n",
       "       [ 9.5],\n",
       "       [13.4],\n",
       "       [18.9],\n",
       "       [22.3],\n",
       "       [18.3],\n",
       "       [12.4],\n",
       "       [ 8.8],\n",
       "       [11. ],\n",
       "       [17. ],\n",
       "       [ 8.7],\n",
       "       [ 6.9],\n",
       "       [14.2],\n",
       "       [ 5.3],\n",
       "       [11. ],\n",
       "       [11.8],\n",
       "       [12.3],\n",
       "       [11.3],\n",
       "       [13.6],\n",
       "       [21.7],\n",
       "       [15.2],\n",
       "       [12. ],\n",
       "       [16. ],\n",
       "       [12.9],\n",
       "       [16.7],\n",
       "       [11.2],\n",
       "       [ 7.3],\n",
       "       [19.4],\n",
       "       [22.2],\n",
       "       [11.5],\n",
       "       [16.9],\n",
       "       [11.7],\n",
       "       [15.5],\n",
       "       [25.4],\n",
       "       [17.2],\n",
       "       [11.7],\n",
       "       [23.8],\n",
       "       [14.8],\n",
       "       [14.7],\n",
       "       [20.7],\n",
       "       [19.2],\n",
       "       [ 7.2],\n",
       "       [ 8.7],\n",
       "       [ 5.3],\n",
       "       [19.8],\n",
       "       [13.4],\n",
       "       [21.8],\n",
       "       [14.1],\n",
       "       [15.9],\n",
       "       [14.6],\n",
       "       [12.6],\n",
       "       [12.2],\n",
       "       [ 9.4],\n",
       "       [15.9],\n",
       "       [ 6.6],\n",
       "       [15.5],\n",
       "       [ 7. ],\n",
       "       [11.6],\n",
       "       [15.2],\n",
       "       [19.7],\n",
       "       [10.6],\n",
       "       [ 6.6],\n",
       "       [ 8.8],\n",
       "       [24.7],\n",
       "       [ 9.7],\n",
       "       [ 1.6],\n",
       "       [12.7],\n",
       "       [ 5.7],\n",
       "       [19.6],\n",
       "       [10.8],\n",
       "       [11.6],\n",
       "       [ 9.5],\n",
       "       [20.8],\n",
       "       [ 9.6],\n",
       "       [20.7],\n",
       "       [10.9],\n",
       "       [19.2],\n",
       "       [20.1],\n",
       "       [10.4],\n",
       "       [11.4],\n",
       "       [10.3],\n",
       "       [13.2],\n",
       "       [25.4],\n",
       "       [10.9],\n",
       "       [10.1],\n",
       "       [16.1],\n",
       "       [11.6],\n",
       "       [16.6],\n",
       "       [19. ],\n",
       "       [15.6],\n",
       "       [ 3.2],\n",
       "       [15.3],\n",
       "       [10.1],\n",
       "       [ 7.3],\n",
       "       [12.9],\n",
       "       [14.4],\n",
       "       [13.3],\n",
       "       [14.9],\n",
       "       [18. ],\n",
       "       [11.9],\n",
       "       [11.9],\n",
       "       [ 8. ],\n",
       "       [12.2],\n",
       "       [17.1],\n",
       "       [15. ],\n",
       "       [ 8.4],\n",
       "       [14.5],\n",
       "       [ 7.6],\n",
       "       [11.7],\n",
       "       [11.5],\n",
       "       [27. ],\n",
       "       [20.2],\n",
       "       [11.7],\n",
       "       [11.8],\n",
       "       [12.6],\n",
       "       [10.5],\n",
       "       [12.2],\n",
       "       [ 8.7],\n",
       "       [26.2],\n",
       "       [17.6],\n",
       "       [22.6],\n",
       "       [10.3],\n",
       "       [17.3],\n",
       "       [15.9],\n",
       "       [ 6.7],\n",
       "       [10.8],\n",
       "       [ 9.9],\n",
       "       [ 5.9],\n",
       "       [19.6],\n",
       "       [17.3],\n",
       "       [ 7.6],\n",
       "       [ 9.7],\n",
       "       [12.8],\n",
       "       [25.5],\n",
       "       [13.4]])"
      ]
     },
     "execution_count": 6,
     "metadata": {},
     "output_type": "execute_result"
    }
   ],
   "source": [
    "Y"
   ]
  },
  {
   "cell_type": "markdown",
   "id": "844a84a4",
   "metadata": {},
   "source": [
    "## STEP 3: REPLACE MISSING VALUES\n",
    "NO missing values to replace"
   ]
  },
  {
   "cell_type": "markdown",
   "id": "f239f746",
   "metadata": {},
   "source": [
    "## STEP 4: ENCODING\n",
    "No categorical data so no need of encoding"
   ]
  },
  {
   "cell_type": "markdown",
   "id": "56d77fc2",
   "metadata": {},
   "source": [
    "## STEP 5: SPLITTING THE DATA INTO TRAIN AND TEST DATA"
   ]
  },
  {
   "cell_type": "code",
   "execution_count": 7,
   "id": "1a7c5182",
   "metadata": {},
   "outputs": [],
   "source": [
    "from sklearn.model_selection import train_test_split\n",
    "x_train, x_test, y_train, y_test=train_test_split(X, Y, test_size=0.3, random_state=0)"
   ]
  },
  {
   "cell_type": "code",
   "execution_count": 8,
   "id": "645e5b53",
   "metadata": {},
   "outputs": [
    {
     "name": "stdout",
     "output_type": "stream",
     "text": [
      "(140, 1)\n",
      "(140, 1)\n",
      "(60, 1)\n",
      "(60, 1)\n"
     ]
    }
   ],
   "source": [
    "print(x_train.shape)\n",
    "print(y_train.shape)\n",
    "print(x_test.shape)\n",
    "print(x_test.shape)"
   ]
  },
  {
   "cell_type": "markdown",
   "id": "c280b3ed",
   "metadata": {},
   "source": [
    "## STEP 6: FEATURE SCALING"
   ]
  },
  {
   "cell_type": "code",
   "execution_count": 9,
   "id": "e126700d",
   "metadata": {},
   "outputs": [],
   "source": [
    "from sklearn.preprocessing import StandardScaler\n",
    "sc=StandardScaler()\n",
    "x_train[:,:]=sc.fit_transform(x_train[:,:])\n",
    "x_test[:,:]=sc.fit_transform(x_test[:,:])"
   ]
  },
  {
   "cell_type": "markdown",
   "id": "82295981",
   "metadata": {},
   "source": [
    "# PART II: BUILDING LINEAR REGRESSION MODEL"
   ]
  },
  {
   "cell_type": "markdown",
   "id": "5b92fe32",
   "metadata": {},
   "source": [
    "## STEP 1: TRAINING THE MODEL"
   ]
  },
  {
   "cell_type": "code",
   "execution_count": 10,
   "id": "235f8361",
   "metadata": {},
   "outputs": [
    {
     "data": {
      "text/plain": [
       "LinearRegression()"
      ]
     },
     "execution_count": 10,
     "metadata": {},
     "output_type": "execute_result"
    }
   ],
   "source": [
    "from sklearn.linear_model import LinearRegression\n",
    "LR=LinearRegression()\n",
    "LR.fit(x_train, y_train)"
   ]
  },
  {
   "cell_type": "code",
   "execution_count": 11,
   "id": "1b934e83",
   "metadata": {},
   "outputs": [],
   "source": [
    "y_pred=LR.predict(x_test)"
   ]
  },
  {
   "cell_type": "code",
   "execution_count": 12,
   "id": "769a6349",
   "metadata": {
    "scrolled": true
   },
   "outputs": [
    {
     "data": {
      "text/plain": [
       "array([[11.6277347 ],\n",
       "       [10.78488953],\n",
       "       [12.55837624],\n",
       "       [21.30728465],\n",
       "       [16.06145145],\n",
       "       [11.05705828],\n",
       "       [ 8.97189446],\n",
       "       [19.12993464],\n",
       "       [ 9.63475707],\n",
       "       [17.26426174],\n",
       "       [20.06057617],\n",
       "       [12.41790204],\n",
       "       [15.46443613],\n",
       "       [16.83405952],\n",
       "       [11.94380164],\n",
       "       [13.86654217],\n",
       "       [20.24933837],\n",
       "       [ 8.62070898],\n",
       "       [11.86917472],\n",
       "       [17.95785308],\n",
       "       [21.21509846],\n",
       "       [14.7488957 ],\n",
       "       [16.27655256],\n",
       "       [14.37137131],\n",
       "       [10.93853318],\n",
       "       [13.99384691],\n",
       "       [15.8595198 ],\n",
       "       [17.58910832],\n",
       "       [18.42317385],\n",
       "       [ 9.69182471],\n",
       "       [11.56627724],\n",
       "       [17.32132938],\n",
       "       [20.91220098],\n",
       "       [19.20017173],\n",
       "       [ 9.1694363 ],\n",
       "       [ 9.41087632],\n",
       "       [11.20631212],\n",
       "       [16.52677222],\n",
       "       [11.59261615],\n",
       "       [ 9.68743489],\n",
       "       [10.2098233 ],\n",
       "       [ 9.9727731 ],\n",
       "       [14.86303099],\n",
       "       [17.79103997],\n",
       "       [18.04564945],\n",
       "       [13.09832392],\n",
       "       [ 8.96750464],\n",
       "       [ 9.33185959],\n",
       "       [14.10798219],\n",
       "       [13.18173047],\n",
       "       [13.41000104],\n",
       "       [18.66461387],\n",
       "       [19.73133978],\n",
       "       [16.70675478],\n",
       "       [10.55222915],\n",
       "       [11.32483722],\n",
       "       [21.44775884],\n",
       "       [16.16241728],\n",
       "       [17.47936285],\n",
       "       [ 8.910437  ]])"
      ]
     },
     "execution_count": 12,
     "metadata": {},
     "output_type": "execute_result"
    }
   ],
   "source": [
    "y_pred"
   ]
  },
  {
   "cell_type": "code",
   "execution_count": 13,
   "id": "72446c05",
   "metadata": {
    "scrolled": true
   },
   "outputs": [
    {
     "data": {
      "text/plain": [
       "array([[11.3],\n",
       "       [ 8.4],\n",
       "       [ 8.7],\n",
       "       [25.4],\n",
       "       [11.7],\n",
       "       [ 8.7],\n",
       "       [ 7.2],\n",
       "       [13.2],\n",
       "       [ 9.2],\n",
       "       [16.6],\n",
       "       [24.2],\n",
       "       [10.6],\n",
       "       [10.5],\n",
       "       [15.6],\n",
       "       [11.8],\n",
       "       [13.2],\n",
       "       [17.4],\n",
       "       [ 1.6],\n",
       "       [14.7],\n",
       "       [17. ],\n",
       "       [26.2],\n",
       "       [10.3],\n",
       "       [14.9],\n",
       "       [12.9],\n",
       "       [ 8.1],\n",
       "       [15.2],\n",
       "       [12.6],\n",
       "       [22.6],\n",
       "       [11.6],\n",
       "       [ 8.5],\n",
       "       [12.5],\n",
       "       [23.7],\n",
       "       [16.1],\n",
       "       [21.8],\n",
       "       [ 5.6],\n",
       "       [ 6.7],\n",
       "       [ 9.7],\n",
       "       [12.9],\n",
       "       [13.6],\n",
       "       [ 7.2],\n",
       "       [10.8],\n",
       "       [ 9.5],\n",
       "       [15. ],\n",
       "       [15.9],\n",
       "       [17.1],\n",
       "       [14. ],\n",
       "       [ 4.8],\n",
       "       [ 8.7],\n",
       "       [15.9],\n",
       "       [10.4],\n",
       "       [12.4],\n",
       "       [19.7],\n",
       "       [17.6],\n",
       "       [15.5],\n",
       "       [10.1],\n",
       "       [ 9.7],\n",
       "       [21.4],\n",
       "       [14.4],\n",
       "       [16.6],\n",
       "       [ 5.5]])"
      ]
     },
     "execution_count": 13,
     "metadata": {},
     "output_type": "execute_result"
    }
   ],
   "source": [
    "y_test"
   ]
  },
  {
   "cell_type": "code",
   "execution_count": 14,
   "id": "06248e86",
   "metadata": {},
   "outputs": [
    {
     "data": {
      "text/plain": [
       "array([[3.84405657]])"
      ]
     },
     "execution_count": 14,
     "metadata": {},
     "output_type": "execute_result"
    }
   ],
   "source": [
    "LR.coef_"
   ]
  },
  {
   "cell_type": "code",
   "execution_count": 15,
   "id": "80149b43",
   "metadata": {},
   "outputs": [
    {
     "data": {
      "text/plain": [
       "array([14.35571429])"
      ]
     },
     "execution_count": 15,
     "metadata": {},
     "output_type": "execute_result"
    }
   ],
   "source": [
    "LR.intercept_"
   ]
  },
  {
   "cell_type": "code",
   "execution_count": 16,
   "id": "1a3bf988",
   "metadata": {},
   "outputs": [
    {
     "data": {
      "image/png": "[encoded data removed]",
      "text/plain": [
       "<Figure size 432x288 with 1 Axes>"
      ]
     },
     "metadata": {
      "needs_background": "light"
     },
     "output_type": "display_data"
    }
   ],
   "source": [
    "plt.scatter(x_train, y_train, color='red')\n",
    "plt.plot(x_train, LR.predict(x_train))\n",
    "plt.show()"
   ]
  },
  {
   "cell_type": "code",
   "execution_count": 17,
   "id": "995da656",
   "metadata": {},
   "outputs": [
    {
     "data": {
      "image/png": "[encoded data removed]",
      "text/plain": [
       "<Figure size 432x288 with 1 Axes>"
      ]
     },
     "metadata": {
      "needs_background": "light"
     },
     "output_type": "display_data"
    }
   ],
   "source": [
    "xaxis=[i for i in range(1,61)]\n",
    "plt.plot(xaxis,y_test, color=\"blue\", linewidth=2, linestyle=\"-\",label='actual')\n",
    "plt.plot(xaxis,y_pred, color=\"red\",  linewidth=2, linestyle=\"-\",label='predicted')\n",
    "plt.title('Actual and Predicted', fontsize=20)    # Plot heading \n",
    "plt.xlabel('Index', fontsize=18)         # X-label\n",
    "plt.ylabel('Sales', fontsize=16)         #y-label\n",
    "plt.legend()\n",
    "plt.show()"
   ]
  },
  {
   "cell_type": "markdown",
   "id": "28579efd",
   "metadata": {},
   "source": [
    "## WITHOUT FEATURE SCALING"
   ]
  },
  {
   "cell_type": "code",
   "execution_count": 18,
   "id": "45c9c489",
   "metadata": {},
   "outputs": [
    {
     "name": "stdout",
     "output_type": "stream",
     "text": [
      "(140, 1)\n",
      "(60, 1)\n",
      "(140, 1)\n",
      "(60, 1)\n"
     ]
    }
   ],
   "source": [
    "x_train_new, x_test_new, y_train_new, y_test_new=train_test_split(X, Y, test_size=0.3, random_state=0)\n",
    "print(x_train_new.shape)\n",
    "print(x_test_new.shape)\n",
    "print(y_train_new.shape)\n",
    "print(y_test_new.shape)"
   ]
  },
  {
   "cell_type": "code",
   "execution_count": 19,
   "id": "d4b962a2",
   "metadata": {},
   "outputs": [
    {
     "data": {
      "text/plain": [
       "LinearRegression()"
      ]
     },
     "execution_count": 19,
     "metadata": {},
     "output_type": "execute_result"
    }
   ],
   "source": [
    "LR_new=LinearRegression()\n",
    "LR_new.fit(x_train_new,y_train_new)"
   ]
  },
  {
   "cell_type": "code",
   "execution_count": 20,
   "id": "82005d3b",
   "metadata": {},
   "outputs": [],
   "source": [
    "y_pred_new=LR_new.predict(x_test_new)"
   ]
  },
  {
   "cell_type": "code",
   "execution_count": 21,
   "id": "3fccab23",
   "metadata": {},
   "outputs": [
    {
     "data": {
      "text/plain": [
       "array([[10.48116264],\n",
       "       [ 9.60152727],\n",
       "       [11.4524267 ],\n",
       "       [20.58322509],\n",
       "       [15.1084112 ],\n",
       "       [ 9.8855762 ],\n",
       "       [ 7.70939494],\n",
       "       [18.31083372],\n",
       "       [ 8.40119151],\n",
       "       [16.36372418],\n",
       "       [19.28209777],\n",
       "       [11.3058208 ],\n",
       "       [14.48533615],\n",
       "       [15.91474363],\n",
       "       [10.81102591],\n",
       "       [12.81769409],\n",
       "       [19.47909945],\n",
       "       [ 7.3428802 ],\n",
       "       [10.73314153],\n",
       "       [17.08759078],\n",
       "       [20.48701497],\n",
       "       [13.73856237],\n",
       "       [15.33290148],\n",
       "       [13.34455903],\n",
       "       [ 9.76187747],\n",
       "       [12.95055569],\n",
       "       [14.89766523],\n",
       "       [16.70275031],\n",
       "       [17.57322281],\n",
       "       [ 8.46075015],\n",
       "       [10.41702256],\n",
       "       [16.42328282],\n",
       "       [20.17089601],\n",
       "       [18.38413667],\n",
       "       [ 7.91555948],\n",
       "       [ 8.16753836],\n",
       "       [10.04134496],\n",
       "       [15.59404323],\n",
       "       [10.44451117],\n",
       "       [ 8.45616872],\n",
       "       [ 9.00135939],\n",
       "       [ 8.75396194],\n",
       "       [13.85767966],\n",
       "       [16.91349628],\n",
       "       [17.17921947],\n",
       "       [12.01594311],\n",
       "       [ 7.70481351],\n",
       "       [ 8.08507255],\n",
       "       [13.06967298],\n",
       "       [12.10299036],\n",
       "       [12.34122494],\n",
       "       [17.82520169],\n",
       "       [18.93849021],\n",
       "       [15.78188203],\n",
       "       [ 9.35871126],\n",
       "       [10.16504368],\n",
       "       [20.72983099],\n",
       "       [15.21378419],\n",
       "       [16.58821446],\n",
       "       [ 7.64525486]])"
      ]
     },
     "execution_count": 21,
     "metadata": {},
     "output_type": "execute_result"
    }
   ],
   "source": [
    "y_pred_new"
   ]
  },
  {
   "cell_type": "code",
   "execution_count": 22,
   "id": "e8f16673",
   "metadata": {},
   "outputs": [
    {
     "data": {
      "text/plain": [
       "array([[11.3],\n",
       "       [ 8.4],\n",
       "       [ 8.7],\n",
       "       [25.4],\n",
       "       [11.7],\n",
       "       [ 8.7],\n",
       "       [ 7.2],\n",
       "       [13.2],\n",
       "       [ 9.2],\n",
       "       [16.6],\n",
       "       [24.2],\n",
       "       [10.6],\n",
       "       [10.5],\n",
       "       [15.6],\n",
       "       [11.8],\n",
       "       [13.2],\n",
       "       [17.4],\n",
       "       [ 1.6],\n",
       "       [14.7],\n",
       "       [17. ],\n",
       "       [26.2],\n",
       "       [10.3],\n",
       "       [14.9],\n",
       "       [12.9],\n",
       "       [ 8.1],\n",
       "       [15.2],\n",
       "       [12.6],\n",
       "       [22.6],\n",
       "       [11.6],\n",
       "       [ 8.5],\n",
       "       [12.5],\n",
       "       [23.7],\n",
       "       [16.1],\n",
       "       [21.8],\n",
       "       [ 5.6],\n",
       "       [ 6.7],\n",
       "       [ 9.7],\n",
       "       [12.9],\n",
       "       [13.6],\n",
       "       [ 7.2],\n",
       "       [10.8],\n",
       "       [ 9.5],\n",
       "       [15. ],\n",
       "       [15.9],\n",
       "       [17.1],\n",
       "       [14. ],\n",
       "       [ 4.8],\n",
       "       [ 8.7],\n",
       "       [15.9],\n",
       "       [10.4],\n",
       "       [12.4],\n",
       "       [19.7],\n",
       "       [17.6],\n",
       "       [15.5],\n",
       "       [10.1],\n",
       "       [ 9.7],\n",
       "       [21.4],\n",
       "       [14.4],\n",
       "       [16.6],\n",
       "       [ 5.5]])"
      ]
     },
     "execution_count": 22,
     "metadata": {},
     "output_type": "execute_result"
    }
   ],
   "source": [
    "y_test_new"
   ]
  },
  {
   "cell_type": "code",
   "execution_count": 23,
   "id": "59df4448",
   "metadata": {},
   "outputs": [
    {
     "data": {
      "text/plain": [
       "array([[0.04581434]])"
      ]
     },
     "execution_count": 23,
     "metadata": {},
     "output_type": "execute_result"
    }
   ],
   "source": [
    "LR_new.coef_"
   ]
  },
  {
   "cell_type": "code",
   "execution_count": 24,
   "id": "9297ceb0",
   "metadata": {},
   "outputs": [
    {
     "data": {
      "text/plain": [
       "array([7.31081017])"
      ]
     },
     "execution_count": 24,
     "metadata": {},
     "output_type": "execute_result"
    }
   ],
   "source": [
    "LR_new.intercept_"
   ]
  },
  {
   "cell_type": "code",
   "execution_count": 25,
   "id": "9c1c8d71",
   "metadata": {},
   "outputs": [
    {
     "data": {
      "image/png": "[encoded data removed]",
      "text/plain": [
       "<Figure size 432x288 with 1 Axes>"
      ]
     },
     "metadata": {
      "needs_background": "light"
     },
     "output_type": "display_data"
    }
   ],
   "source": [
    "plt.scatter(x_train_new, y_train_new, color='green')\n",
    "plt.plot(x_train_new, LR_new.predict(x_train_new))\n",
    "plt.show()"
   ]
  },
  {
   "cell_type": "code",
   "execution_count": 26,
   "id": "96e6fe6a",
   "metadata": {},
   "outputs": [
    {
     "data": {
      "image/png": "[encoded data removed]",
      "text/plain": [
       "<Figure size 432x288 with 1 Axes>"
      ]
     },
     "metadata": {
      "needs_background": "light"
     },
     "output_type": "display_data"
    }
   ],
   "source": [
    "xaxis_new=[i for i in range(1,61)]\n",
    "plt.plot(xaxis_new,y_test_new, color=\"blue\", linewidth=2, linestyle=\"-\",label='actual')\n",
    "plt.plot(xaxis_new,y_pred_new, color=\"red\",  linewidth=2, linestyle=\"-\",label='predicted')\n",
    "plt.title('NEW Actual and Predicted', fontsize=20)              # Plot heading \n",
    "plt.xlabel('Index', fontsize=18)                               \n",
    "plt.ylabel('Sales', fontsize=16)\n",
    "plt.legend()\n",
    "plt.show()"
   ]
  },
  {
   "cell_type": "markdown",
   "id": "03bda0b6",
   "metadata": {},
   "source": [
    "our model *without* feature scaling is y=0.0492751x + 6.79977345"
   ]
  },
  {
   "cell_type": "markdown",
   "id": "a705237e",
   "metadata": {},
   "source": [
    "our model *with* feature scaling is y=4.30536431x + 13.81125"
   ]
  },
  {
   "cell_type": "markdown",
   "id": "4485f287",
   "metadata": {},
   "source": [
    "### CALCULATING MSE AND RMSE FOR MODEL WITH FEATURE SCALING"
   ]
  },
  {
   "cell_type": "code",
   "execution_count": 27,
   "id": "ef9ab283",
   "metadata": {},
   "outputs": [
    {
     "data": {
      "image/png": "[encoded data removed]",
      "text/plain": [
       "<Figure size 432x288 with 1 Axes>"
      ]
     },
     "metadata": {
      "needs_background": "light"
     },
     "output_type": "display_data"
    }
   ],
   "source": [
    "xaxis=[i for i in range(1,61)]\n",
    "plt.plot(xaxis,y_test-y_pred, color=\"blue\", linewidth=2, linestyle=\"-\",label='error')\n",
    "\n",
    "plt.title('ERROR VALUES', fontsize=20)    # Plot heading \n",
    "plt.xlabel('Index', fontsize=18)         # X-label\n",
    "plt.ylabel('Error', fontsize=16)         #y-label\n",
    "plt.legend()\n",
    "plt.show()"
   ]
  },
  {
   "cell_type": "code",
   "execution_count": 28,
   "id": "b26ec98b",
   "metadata": {},
   "outputs": [
    {
     "name": "stdout",
     "output_type": "stream",
     "text": [
      "8.908747773793623\n",
      "0.6739565852200219\n"
     ]
    }
   ],
   "source": [
    "from sklearn.metrics import mean_squared_error, r2_score\n",
    "MSE=mean_squared_error(y_test, y_pred)\n",
    "r_squared_error=r2_score(y_test,y_pred)\n",
    "print(MSE)\n",
    "print(r_squared_error)"
   ]
  },
  {
   "cell_type": "markdown",
   "id": "72ebb09b",
   "metadata": {},
   "source": [
    "### CALCULATING MSE AND RMSE FOR MODEL WITHOUT FEATURE SCALING"
   ]
  },
  {
   "cell_type": "code",
   "execution_count": 31,
   "id": "39bb6c3c",
   "metadata": {},
   "outputs": [
    {
     "data": {
      "image/png": "[encoded data removed]",
      "text/plain": [
       "<Figure size 432x288 with 1 Axes>"
      ]
     },
     "metadata": {
      "needs_background": "light"
     },
     "output_type": "display_data"
    }
   ],
   "source": [
    "xaxis=[i for i in range(1,61)]\n",
    "plt.plot(xaxis,y_test_new-y_pred_new, color=\"cyan\", linewidth=2, linestyle=\"-\",label='error')\n",
    "\n",
    "plt.title('ERROR VALUES', fontsize=20)    # Plot heading \n",
    "plt.xlabel('Index', fontsize=18)         # X-label\n",
    "plt.ylabel('Error', fontsize=16)         #y-label\n",
    "plt.legend()\n",
    "plt.show()"
   ]
  },
  {
   "cell_type": "code",
   "execution_count": 30,
   "id": "00e1ec1a",
   "metadata": {},
   "outputs": [
    {
     "name": "stdout",
     "output_type": "stream",
     "text": [
      "7.497479593464674\n",
      "0.725606346597073\n"
     ]
    }
   ],
   "source": [
    "MSE_new=mean_squared_error(y_test_new, y_pred_new)\n",
    "r_squared_error_new=r2_score(y_test_new,y_pred_new)\n",
    "print(MSE_new)\n",
    "print(r_squared_error_new)"
   ]
  },
  {
   "cell_type": "markdown",
   "id": "cab413b8",
   "metadata": {},
   "source": [
    "#### conclusion-\n",
    "##### when random state=1 and test_size=0.2\n",
    "##### 10.8 mse means our model does not give accurate values for 10.8% of values"
   ]
  },
  {
   "cell_type": "markdown",
   "id": "fc790d17",
   "metadata": {},
   "source": [
    "r-squared=0.41 means our model is 41% accurate"
   ]
  },
  {
   "cell_type": "markdown",
   "id": "1b609a02",
   "metadata": {},
   "source": [
    "###### when random state =0 and test_size=0.3\n",
    "###### mse=7.49\n",
    "###### r-squared= 72.5%"
   ]
  },
  {
   "cell_type": "code",
   "execution_count": null,
   "id": "fdd4b5f7",
   "metadata": {},
   "outputs": [],
   "source": []
  }
 ],
 "metadata": {
  "kernelspec": {
   "display_name": "Python 3",
   "language": "python",
   "name": "python3"
  },
  "language_info": {
   "codemirror_mode": {
    "name": "ipython",
    "version": 3
   },
   "file_extension": ".py",
   "mimetype": "text/x-python",
   "name": "python",
   "nbconvert_exporter": "python",
   "pygments_lexer": "ipython3",
   "version": "3.8.8"
  }
 },
 "nbformat": 4,
 "nbformat_minor": 5
}
